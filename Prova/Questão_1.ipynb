{
  "cells": [
    {
      "cell_type": "code",
      "execution_count": null,
      "metadata": {
        "id": "y8qlW2exNLWD"
      },
      "outputs": [],
      "source": [
        "# Questão 1 (Nota 2,0) - Durante as aulas de Introdução à Programação em Python, um\n",
        "# professor do EMC/UFG propôs um desafio para o BIA: estimar o consumo\n",
        "# mensal de energia de aparelhos residenciais, utilizando um modelo\n",
        "# simplificado de cálculo adotado em estudos da unidade KWhResidencial/30.\n",
        "# Sabendo que:\n",
        "# Consumo mensal (kWh) = Potência (kW) × Horas por dia × 30\n",
        "# Você deverá implementar um programa que siga os princípios reforçados no nosso material\n",
        "# online de aula, especialmente em relação à clareza, estrutura e reaproveitamento de\n",
        "# código.\n",
        "# O programa deve:\n",
        "# a) Solicitar ao usuário dois valores:\n",
        "# • a potência do aparelho em kW (ex: 1.2)\n",
        "# • o tempo médio de uso diário em horas (ex: 4)\n",
        "# b) Garantir que ambos os valores inseridos sejam positivos e realistas. Caso contrário,\n",
        "# exiba uma mensagem de erro compatível com os exemplos e estilo das aulas.\n",
        "# c) Criar uma função chamada calcular_consumo_mensal(pot, horas) que realize o cálculo\n",
        "# e retorne o consumo mensal estimado.\n",
        "# d) Apresentar os resultados de forma clara para o usuário.\n"
      ]
    },
    {
      "cell_type": "code",
      "execution_count": null,
      "metadata": {
        "colab": {
          "base_uri": "https://localhost:8080/"
        },
        "id": "LbgGoaypOgRT",
        "outputId": "c0f8f35c-930d-4bd8-98d5-1f8cf150c2c4"
      },
      "outputs": [
        {
          "name": "stdout",
          "output_type": "stream",
          "text": [
            "\t======================================\n",
            "\t| Calculadora de Consumo de Energia💡|\n",
            "\t======================================\n",
            "\n",
            "\n",
            "\n",
            "digite a potência do aparelho (em kW):\t1\n",
            "\n",
            "digite o tempo médio de uso diário (em horas):\t2\n",
            "\n",
            "📊 Resultado:\n",
            "\n",
            "O consumo mensal estimado do aparelho é de 60.00 kWh.\n",
            "\n",
            "Obrigado por utilizar a calculadora de energia!\n"
          ]
        }
      ],
      "source": [
        "def calcular_consumo_mensal(pot, horas):\n",
        "  consumo = pot * horas * 30\n",
        "  return consumo\n",
        "print(\"\\t======================================\")\n",
        "print(\"\\t| Calculadora de Consumo de Energia💡|\")\n",
        "print(\"\\t======================================\\n\\n\")\n",
        "\n",
        "pot = float(input('\\ndigite a potência do aparelho (em kW):\\t'))\n",
        "horas = float(input('\\ndigite o tempo médio de uso diário (em horas):\\t'))\n",
        "\n",
        "if pot <= 0 and horas <= 0:\n",
        "  print(\"\\n❌ Os valores informados devem ser realistas.\")\n",
        "  print(\"Por favor, tente novamente com dados válidos.\")\n",
        "\n",
        "consumo = calcular_consumo_mensal(pot, horas)\n",
        "print(\"\\n📊 Resultado:\")\n",
        "print(f\"\\nO consumo mensal estimado do aparelho é de {consumo:.2f} kWh.\")\n",
        "print(\"\\nObrigado por utilizar a calculadora de energia!\")"
      ]
    },
    {
      "cell_type": "code",
      "execution_count": null,
      "metadata": {
        "id": "03aesGzHKN5d"
      },
      "outputs": [],
      "source": [
        "# Jamily vieira Gonçaves 202505970 vieira_jamily@discente.ufg.br\n",
        "# a)\n",
        "# solicito o valor da potencia e do tempo medio para o usuario utilizando o input\n",
        "# e armazeno os valores em variaveis\n",
        "\n",
        "pot = float(input('digite a potência do aparelho em kW\\t'))\n",
        "horas = float(input('digite o tempo médio de uso diário em horas\\t'))"
      ]
    },
    {
      "cell_type": "code",
      "execution_count": null,
      "metadata": {
        "id": "qG4kGPZmLpAr"
      },
      "outputs": [],
      "source": [
        "# Jamily vieira Gonçaves 202505970 vieira_jamily@discente.ufg.br\n",
        "# b)\n",
        "# verifico se os valores são positivos e realistas\n",
        "\n",
        "if pot <= 0 and horas < 0:\n",
        "  print('os valores devem ser realistas')\n"
      ]
    },
    {
      "cell_type": "code",
      "execution_count": null,
      "metadata": {
        "id": "WtaAIt-7P4EF"
      },
      "outputs": [],
      "source": [
        "# Jamily vieira Gonçaves 202505970 vieira_jamily@discente.ufg.br\n",
        "# c)\n",
        "# crio a função calcular_consumo_mensal que recebe pot e horas como parametros\n",
        "# e retorna o consumo mensal estimado\n",
        "def calcular_consumo_mensal(pot, horas):\n",
        "  consumo = pot * horas * 30\n",
        "  return consumo"
      ]
    },
    {
      "cell_type": "code",
      "execution_count": null,
      "metadata": {
        "colab": {
          "base_uri": "https://localhost:8080/"
        },
        "id": "C0qK54uLSx7H",
        "outputId": "6a4e309d-7484-49e4-daf8-5b463327db6e"
      },
      "outputs": [
        {
          "name": "stdout",
          "output_type": "stream",
          "text": [
            "\n",
            "O consumo mensal estimado do aparelho é de 180.00 kWh.\n"
          ]
        }
      ],
      "source": [
        "\n",
        "# Jamily vieira Gonçaves 202505970 vieira_jamily@discente.ufg.br\n",
        "# d)\n",
        "# chamo a função calcular_consumo_mensal e armazeno o resultado na variavel consumo\n",
        "# e imprimo o resultado na tela\n",
        "consumo = calcular_consumo_mensal(pot, horas)\n",
        "print(f\"\\nO consumo mensal estimado do aparelho é de {consumo:.2f} kWh.\").\")"
      ]
    }
  ],
  "metadata": {
    "colab": {
      "provenance": []
    },
    "kernelspec": {
      "display_name": "Python 3",
      "name": "python3"
    },
    "language_info": {
      "name": "python"
    }
  },
  "nbformat": 4,
  "nbformat_minor": 0
}
